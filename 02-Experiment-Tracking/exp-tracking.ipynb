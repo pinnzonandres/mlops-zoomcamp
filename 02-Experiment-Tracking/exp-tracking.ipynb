{
 "cells": [
  {
   "cell_type": "code",
   "execution_count": 1,
   "id": "e4626a12",
   "metadata": {},
   "outputs": [],
   "source": [
    "import pandas as pd\n",
    "import numpy as np"
   ]
  },
  {
   "cell_type": "code",
   "execution_count": 2,
   "id": "7a7fcfc2",
   "metadata": {},
   "outputs": [],
   "source": [
    "import pickle"
   ]
  },
  {
   "cell_type": "code",
   "execution_count": 3,
   "id": "930ecad7",
   "metadata": {},
   "outputs": [],
   "source": [
    "import matplotlib.pyplot as plt\n",
    "import seaborn as sns"
   ]
  },
  {
   "cell_type": "code",
   "execution_count": 4,
   "id": "db5b40e1-9a8a-4df5-b6da-00d6672e8cd9",
   "metadata": {},
   "outputs": [
    {
     "data": {
      "text/plain": [
       "<Experiment: artifact_location=('/mnt/c/Users/ASUS/OneDrive/Desktop/Proyectos/Courses/MLops '\n",
       " 'ZoomCamp/02-Experiment-Tracking/mlruns/1'), creation_time=1747004234916, experiment_id='1', last_update_time=1747004234916, lifecycle_stage='active', name='nyc-taxi.experiment', tags={}>"
      ]
     },
     "execution_count": 4,
     "metadata": {},
     "output_type": "execute_result"
    }
   ],
   "source": [
    "import mlflow\n",
    "\n",
    "# Definiendo parámetros de mlflow\n",
    "mlflow.set_tracking_uri(\"sqlite:///exp-tracking.db\")\n",
    "mlflow.set_experiment(\"nyc-taxi.experiment\")"
   ]
  },
  {
   "cell_type": "code",
   "execution_count": 5,
   "id": "dccdd252",
   "metadata": {},
   "outputs": [],
   "source": [
    "from sklearn.feature_extraction import DictVectorizer\n",
    "from sklearn.linear_model import LinearRegression, Ridge, Lasso\n",
    "\n",
    "from sklearn.metrics import root_mean_squared_error"
   ]
  },
  {
   "cell_type": "code",
   "execution_count": 6,
   "id": "3a9807ab",
   "metadata": {},
   "outputs": [],
   "source": [
    "def read_dataframe(filename):\n",
    "    if filename.endswith('.csv'):\n",
    "        df = pd.read_csv(filename)\n",
    "\n",
    "        df.lpep_dropoff_datetime = pd.to_datetime(df.lpep_dropoff_datetime)\n",
    "        df.lpep_pickup_datetime = pd.to_datetime(df.lpep_pickup_datetime)\n",
    "    elif filename.endswith('.parquet'):\n",
    "        df = pd.read_parquet(filename)\n",
    "\n",
    "    df['duration'] = (df.lpep_dropoff_datetime - df.lpep_pickup_datetime).dt.total_seconds() / 60\n",
    "    \n",
    "    df = df[(df.duration >= 1) & (df.duration <= 60)]\n",
    "\n",
    "    categorical = ['PULocationID', 'DOLocationID']\n",
    "    df[categorical] = df[categorical].astype(str)\n",
    "    \n",
    "    return df"
   ]
  },
  {
   "cell_type": "code",
   "execution_count": 7,
   "id": "36d5f28a",
   "metadata": {},
   "outputs": [],
   "source": [
    "df_train = read_dataframe('./data/green_tripdata_2021-01.parquet')\n",
    "df_val = read_dataframe('./data/green_tripdata_2021-02.parquet')"
   ]
  },
  {
   "cell_type": "code",
   "execution_count": 8,
   "id": "fc0ab55e",
   "metadata": {},
   "outputs": [
    {
     "data": {
      "text/plain": [
       "(73908, 61921)"
      ]
     },
     "execution_count": 8,
     "metadata": {},
     "output_type": "execute_result"
    }
   ],
   "source": [
    "len(df_train), len(df_val)"
   ]
  },
  {
   "cell_type": "code",
   "execution_count": 9,
   "id": "ba823de5",
   "metadata": {},
   "outputs": [],
   "source": [
    "categorical = ['PULocationID', 'DOLocationID']\n",
    "numerical = ['trip_distance']\n",
    "\n",
    "dv = DictVectorizer()\n",
    "\n",
    "train_dicts = df_train[categorical + numerical].to_dict(orient='records')\n",
    "X_train = dv.fit_transform(train_dicts)\n",
    "\n",
    "val_dicts = df_val[categorical + numerical].to_dict(orient='records')\n",
    "X_val = dv.transform(val_dicts)"
   ]
  },
  {
   "cell_type": "code",
   "execution_count": 10,
   "id": "d068858f",
   "metadata": {},
   "outputs": [],
   "source": [
    "target = 'duration'\n",
    "y_train = df_train[target].values\n",
    "y_val = df_val[target].values"
   ]
  },
  {
   "cell_type": "code",
   "execution_count": 11,
   "id": "578454dd",
   "metadata": {},
   "outputs": [
    {
     "data": {
      "text/plain": [
       "10.499110709685581"
      ]
     },
     "execution_count": 11,
     "metadata": {},
     "output_type": "execute_result"
    }
   ],
   "source": [
    "lr = LinearRegression()\n",
    "lr.fit(X_train, y_train)\n",
    "\n",
    "y_pred = lr.predict(X_val)\n",
    "\n",
    "root_mean_squared_error(y_val, y_pred)"
   ]
  },
  {
   "cell_type": "code",
   "execution_count": 12,
   "id": "db5eada6",
   "metadata": {},
   "outputs": [],
   "source": [
    "with open('models/lin_reg.bin', 'wb') as f_out:\n",
    "    pickle.dump((dv,lr),f_out)"
   ]
  },
  {
   "cell_type": "code",
   "execution_count": 13,
   "id": "cc41a540-4658-41fe-b4df-2e844ba9f9e3",
   "metadata": {},
   "outputs": [],
   "source": [
    "# Tracking History\n",
    "with mlflow.start_run():\n",
    "\n",
    "    # Create tags\n",
    "    mlflow.set_tag(\"Data Scientist\", \"Andres\")\n",
    "\n",
    "    # Añadir información o parámetros, logear información\n",
    "    # En este caso guardamos la información sobre los conjuntos de datos\n",
    "    mlflow.log_param(\"train-data-path\", './data/green_tripdata_2021-01.parquet')\n",
    "    mlflow.log_param(\"valid-data-path\", './data/green_tripdata_2021-02.parquet')\n",
    "\n",
    "    # Logear alpha\n",
    "    alpha = 0.1\n",
    "    mlflow.log_param(\"alpha\", alpha)\n",
    "    lr = Lasso(alpha)\n",
    "    lr.fit(X_train, y_train)\n",
    "    y_pred = lr.predict(X_val)\n",
    "    rmse = root_mean_squared_error(y_val, y_pred)\n",
    "\n",
    "    # Logeamos nuestra métrica\n",
    "    mlflow.log_metric(\"rmse\", rmse)\n",
    "\n",
    "    # Model Registry\n",
    "    mlflow.log_artifact(local_path='models/lin_reg.bin', artifact_path=\"models_pickle\")"
   ]
  },
  {
   "cell_type": "code",
   "execution_count": 14,
   "id": "9ee96b6c-fe86-4a42-a6e5-7fa6019ad6b2",
   "metadata": {},
   "outputs": [],
   "source": [
    "import xgboost as xgb\n",
    "\n",
    "from hyperopt import fmin, tpe, hp, STATUS_OK, Trials\n",
    "from hyperopt.pyll import scope"
   ]
  },
  {
   "cell_type": "code",
   "execution_count": 15,
   "id": "867fd2fe-223a-4aa8-864c-42a674d9bd82",
   "metadata": {},
   "outputs": [],
   "source": [
    "train = xgb.DMatrix(X_train, label = y_train)\n",
    "valid = xgb.DMatrix(X_val, label = y_val)"
   ]
  },
  {
   "cell_type": "code",
   "execution_count": 16,
   "id": "5805a4e4-d6fc-4184-8371-2eed8d991c6c",
   "metadata": {},
   "outputs": [],
   "source": [
    "def objective(params):\n",
    "    with mlflow.start_run():\n",
    "        mlflow.set_tag(\"model\", \"xgboost\")\n",
    "        mlflow.log_params(params)\n",
    "        booster = xgb.train(\n",
    "            params = params,\n",
    "            dtrain = train,\n",
    "            num_boost_round = 10,\n",
    "            evals = [(valid, \"validation\")],\n",
    "            early_stopping_rounds = 5\n",
    "        )\n",
    "        y_pred = booster.predict(valid)\n",
    "        rmse = root_mean_squared_error(y_val, y_pred)\n",
    "        mlflow.log_metric(\"rmse\", rmse)\n",
    "\n",
    "    return {'loss':rmse, 'status': STATUS_OK}"
   ]
  },
  {
   "cell_type": "code",
   "execution_count": 17,
   "id": "df798d86-e271-4d02-bf17-2096f5f826b7",
   "metadata": {},
   "outputs": [],
   "source": [
    "search_space = {\n",
    "    'max_depth': scope.int(hp.quniform('max_depth', 4, 100, 1)),\n",
    "    'learning_rate': hp.loguniform('learning_rate', -3, 0),\n",
    "    'reg_alpha': hp.loguniform('reg_alpha', -5, -1),\n",
    "    'reg_lambda': hp.loguniform('reg_lambda', -6, -1),\n",
    "    'min_child_weight': hp.loguniform('min_child_weight', -1, 3),\n",
    "    'objective': 'reg:squarederror',\n",
    "    'seed': 123\n",
    "}"
   ]
  },
  {
   "cell_type": "code",
   "execution_count": 18,
   "id": "9810b488-907b-44b7-a915-ba5b19db0460",
   "metadata": {
    "scrolled": true
   },
   "outputs": [
    {
     "name": "stdout",
     "output_type": "stream",
     "text": [
      "[0]\tvalidation-rmse:8.90199                           \n",
      "[1]\tvalidation-rmse:7.44741                           \n",
      "[2]\tvalidation-rmse:6.87095                           \n",
      "[3]\tvalidation-rmse:6.64542                           \n",
      "[4]\tvalidation-rmse:6.56983                           \n",
      "[5]\tvalidation-rmse:6.54707                           \n",
      "[6]\tvalidation-rmse:6.54000                           \n",
      "[7]\tvalidation-rmse:6.54799                           \n",
      "[8]\tvalidation-rmse:6.54823                           \n",
      "[9]\tvalidation-rmse:6.55673                           \n",
      "[0]\tvalidation-rmse:10.51644                                                    \n",
      "[1]\tvalidation-rmse:9.29964                                                     \n",
      "[2]\tvalidation-rmse:8.44249                                                     \n",
      "[3]\tvalidation-rmse:7.84540                                                     \n",
      "[4]\tvalidation-rmse:7.43224                                                     \n",
      "[5]\tvalidation-rmse:7.14770                                                     \n",
      "[6]\tvalidation-rmse:6.95535                                                     \n",
      "[7]\tvalidation-rmse:6.82242                                                     \n",
      "[8]\tvalidation-rmse:6.72514                                                     \n",
      "[9]\tvalidation-rmse:6.65379                                                     \n",
      "[0]\tvalidation-rmse:9.10578                                                     \n",
      "[1]\tvalidation-rmse:7.59007                                                     \n",
      "[2]\tvalidation-rmse:6.89631                                                     \n",
      "[3]\tvalidation-rmse:6.58191                                                     \n",
      "[4]\tvalidation-rmse:6.43486                                                     \n",
      "[5]\tvalidation-rmse:6.36373                                                     \n",
      "[6]\tvalidation-rmse:6.32435                                                     \n",
      "[7]\tvalidation-rmse:6.29800                                                     \n",
      "[8]\tvalidation-rmse:6.27720                                                     \n",
      "[9]\tvalidation-rmse:6.26899                                                     \n",
      "[0]\tvalidation-rmse:8.95051                                                     \n",
      "[1]\tvalidation-rmse:7.52814                                                   \n",
      "[2]\tvalidation-rmse:6.96870                                                   \n",
      "[3]\tvalidation-rmse:6.76589                                                   \n",
      "[4]\tvalidation-rmse:6.68685                                                   \n",
      "[5]\tvalidation-rmse:6.66770                                                   \n",
      "[6]\tvalidation-rmse:6.66757                                                   \n",
      "[7]\tvalidation-rmse:6.66934                                                   \n",
      "[8]\tvalidation-rmse:6.67533                                                   \n",
      "[9]\tvalidation-rmse:6.67948                                                   \n",
      "[0]\tvalidation-rmse:11.19703                                                  \n",
      "[1]\tvalidation-rmse:10.34401                                                  \n",
      "[2]\tvalidation-rmse:9.62896                                                   \n",
      "[3]\tvalidation-rmse:9.03586                                                   \n",
      "[4]\tvalidation-rmse:8.54291                                                   \n",
      "[5]\tvalidation-rmse:8.13566                                                   \n",
      "[6]\tvalidation-rmse:7.81021                                                   \n",
      "[7]\tvalidation-rmse:7.53773                                                   \n",
      "[8]\tvalidation-rmse:7.31790                                                   \n",
      "[9]\tvalidation-rmse:7.14440                                                   \n",
      "[0]\tvalidation-rmse:10.35381                                                  \n",
      "[1]\tvalidation-rmse:9.05065                                                   \n",
      "[2]\tvalidation-rmse:8.16498                                                   \n",
      "[3]\tvalidation-rmse:7.56653                                                   \n",
      "[4]\tvalidation-rmse:7.16221                                                   \n",
      "[5]\tvalidation-rmse:6.89423                                                   \n",
      "[6]\tvalidation-rmse:6.71703                                                   \n",
      "[7]\tvalidation-rmse:6.59758                                                   \n",
      "[8]\tvalidation-rmse:6.51808                                                   \n",
      "[9]\tvalidation-rmse:6.45759                                                   \n",
      "[0]\tvalidation-rmse:11.63098                                                  \n",
      "[1]\tvalidation-rmse:11.10202                                                  \n",
      "[2]\tvalidation-rmse:10.62100                                                  \n",
      "[3]\tvalidation-rmse:10.18447                                                  \n",
      "[4]\tvalidation-rmse:9.78915                                                   \n",
      "[5]\tvalidation-rmse:9.43085                                                   \n",
      "[6]\tvalidation-rmse:9.10883                                                   \n",
      "[7]\tvalidation-rmse:8.81750                                                   \n",
      "[8]\tvalidation-rmse:8.55616                                                   \n",
      "[9]\tvalidation-rmse:8.32249                                                   \n",
      "[0]\tvalidation-rmse:11.00731                                                  \n",
      "[1]\tvalidation-rmse:10.03176                                                  \n",
      "[2]\tvalidation-rmse:9.25066                                                   \n",
      "[3]\tvalidation-rmse:8.61888                                                   \n",
      "[4]\tvalidation-rmse:8.11786                                                   \n",
      "[5]\tvalidation-rmse:7.71999                                                   \n",
      "[6]\tvalidation-rmse:7.41217                                                   \n",
      "[7]\tvalidation-rmse:7.16828                                                   \n",
      "[8]\tvalidation-rmse:6.97707                                                   \n",
      "[9]\tvalidation-rmse:6.83228                                                   \n",
      "[0]\tvalidation-rmse:11.38668                                                  \n",
      "[1]\tvalidation-rmse:10.66828                                                  \n",
      "[2]\tvalidation-rmse:10.04563                                                  \n",
      "[3]\tvalidation-rmse:9.50475                                                   \n",
      "[4]\tvalidation-rmse:9.03964                                                   \n",
      "[5]\tvalidation-rmse:8.64033                                                   \n",
      "[6]\tvalidation-rmse:8.29995                                                   \n",
      "[7]\tvalidation-rmse:8.00821                                                   \n",
      "[8]\tvalidation-rmse:7.75921                                                   \n",
      "[9]\tvalidation-rmse:7.55003                                                   \n",
      "[0]\tvalidation-rmse:11.58452                                                  \n",
      "[1]\tvalidation-rmse:11.01708                                                  \n",
      "[2]\tvalidation-rmse:10.50579                                                  \n",
      "[3]\tvalidation-rmse:10.04453                                                  \n",
      "[4]\tvalidation-rmse:9.63032                                                   \n",
      "[5]\tvalidation-rmse:9.26034                                                   \n",
      "[6]\tvalidation-rmse:8.92728                                                   \n",
      "[7]\tvalidation-rmse:8.63009                                                   \n",
      "[8]\tvalidation-rmse:8.36489                                                   \n",
      "[9]\tvalidation-rmse:8.13082                                                   \n",
      "100%|██████████| 10/10 [01:21<00:00,  8.11s/trial, best loss: 6.26898569378997]\n"
     ]
    }
   ],
   "source": [
    "best_result = fmin(\n",
    "    fn=objective,\n",
    "    space=search_space,\n",
    "    algo=tpe.suggest,\n",
    "    max_evals=10,\n",
    "    trials=Trials()\n",
    ")"
   ]
  },
  {
   "cell_type": "code",
   "execution_count": 19,
   "id": "35d338ba-1ebf-412a-bf59-879abfd532f5",
   "metadata": {
    "scrolled": true
   },
   "outputs": [
    {
     "name": "stderr",
     "output_type": "stream",
     "text": [
      "2025/05/20 07:50:32 INFO mlflow.utils.autologging_utils: Created MLflow autologging run with ID '28b1cba6a8c146e881696340ef2442e1', which will track hyperparameters, performance metrics, model artifacts, and lineage information for the current xgboost workflow\n"
     ]
    },
    {
     "name": "stdout",
     "output_type": "stream",
     "text": [
      "[0]\tvalidation-rmse:11.67557\n",
      "[1]\tvalidation-rmse:11.18422\n",
      "[2]\tvalidation-rmse:10.73597\n",
      "[3]\tvalidation-rmse:10.32646\n",
      "[4]\tvalidation-rmse:9.95259\n",
      "[5]\tvalidation-rmse:9.61348\n",
      "[6]\tvalidation-rmse:9.30666\n",
      "[7]\tvalidation-rmse:9.02762\n",
      "[8]\tvalidation-rmse:8.77415\n",
      "[9]\tvalidation-rmse:8.54468\n"
     ]
    },
    {
     "name": "stderr",
     "output_type": "stream",
     "text": [
      "2025/05/20 07:50:37 WARNING mlflow.xgboost: Failed to infer model signature: could not sample data to infer model signature: please ensure that autologging is enabled before constructing the dataset.\n",
      "2025/05/20 07:50:37 WARNING mlflow.utils.autologging_utils: MLflow autologging encountered a warning: \"/home/pinnzonandres/anaconda3/envs/exp-tracking-env/lib/python3.9/site-packages/xgboost/core.py:158: UserWarning: [07:50:37] WARNING: /workspace/src/c_api/c_api.cc:1374: Saving model in the UBJSON format as default.  You can use file extension: `json`, `ubj` or `deprecated` to choose between formats.\"\n",
      "\u001b[31m2025/05/20 07:50:44 WARNING mlflow.models.model: Model logged without a signature and input example. Please set `input_example` parameter when logging the model to auto infer the model signature.\u001b[0m\n"
     ]
    }
   ],
   "source": [
    "params = {\n",
    "    'learning_rate':0.06650908516703558,\n",
    "    'max_depth':16,\n",
    "    'min_child_weight':9.240451398492997,\n",
    "    'objective':'reg:squarederror',\n",
    "    'reg_alpha':0.05025684864048788,\n",
    "    'reg_lambda':0.10146607789146089,\n",
    "    'seed':123\n",
    "}\n",
    "\n",
    "\n",
    "# Autolog\n",
    "mlflow.xgboost.autolog()\n",
    "booster = xgb.train(\n",
    "            params = params,\n",
    "            dtrain = train,\n",
    "            num_boost_round = 10,\n",
    "            evals = [(valid, \"validation\")],\n",
    "            early_stopping_rounds =50\n",
    "        )"
   ]
  },
  {
   "cell_type": "code",
   "execution_count": 21,
   "id": "d097cd9a",
   "metadata": {},
   "outputs": [],
   "source": [
    "mlflow.xgboost.autolog(disable=True)"
   ]
  },
  {
   "cell_type": "code",
   "execution_count": 24,
   "id": "8d7b7639-dd6b-4d26-8b1c-e0fc447657aa",
   "metadata": {},
   "outputs": [
    {
     "name": "stdout",
     "output_type": "stream",
     "text": [
      "[0]\tvalidation-rmse:11.67557\n",
      "[1]\tvalidation-rmse:11.18422\n",
      "[2]\tvalidation-rmse:10.73597\n",
      "[3]\tvalidation-rmse:10.32646\n",
      "[4]\tvalidation-rmse:9.95259\n",
      "[5]\tvalidation-rmse:9.61348\n",
      "[6]\tvalidation-rmse:9.30666\n",
      "[7]\tvalidation-rmse:9.02762\n",
      "[8]\tvalidation-rmse:8.77415\n",
      "[9]\tvalidation-rmse:8.54468\n"
     ]
    },
    {
     "name": "stderr",
     "output_type": "stream",
     "text": [
      "/home/pinnzonandres/anaconda3/envs/exp-tracking-env/lib/python3.9/site-packages/xgboost/core.py:158: UserWarning: [08:00:38] WARNING: /workspace/src/c_api/c_api.cc:1374: Saving model in the UBJSON format as default.  You can use file extension: `json`, `ubj` or `deprecated` to choose between formats.\n",
      "  warnings.warn(smsg, UserWarning)\n",
      "\u001b[31m2025/05/20 08:00:43 WARNING mlflow.models.model: Model logged without a signature and input example. Please set `input_example` parameter when logging the model to auto infer the model signature.\u001b[0m\n"
     ]
    }
   ],
   "source": [
    "with mlflow.start_run():\n",
    "    params = {\n",
    "    'learning_rate':0.06650908516703558,\n",
    "    'max_depth':16,\n",
    "    'min_child_weight':9.240451398492997,\n",
    "    'objective':'reg:squarederror',\n",
    "    'reg_alpha':0.05025684864048788,\n",
    "    'reg_lambda':0.10146607789146089,\n",
    "    'seed':123\n",
    "    }\n",
    "\n",
    "    mlflow.log_params(params)\n",
    "\n",
    "    booster = xgb.train(\n",
    "            params = params,\n",
    "            dtrain = train,\n",
    "            num_boost_round = 10,\n",
    "            evals = [(valid, \"validation\")],\n",
    "            early_stopping_rounds =50)\n",
    "    y_pred = booster.predict(valid)\n",
    "    rmse = root_mean_squared_error(y_val, y_pred)\n",
    "    mlflow.log_metric(\"rmse\", rmse)\n",
    "    \n",
    "    with open(\"models/preprocessor.pkl\", \"wb\") as out_path:\n",
    "        pickle.dump(dv, out_path)\n",
    "\n",
    "    mlflow.log_artifact(\"models/preprocessor.pkl\", artifact_path=\"Preprocessor\")\n",
    "    mlflow.xgboost.log_model(booster, artifact_path='models')"
   ]
  },
  {
   "cell_type": "code",
   "execution_count": null,
   "id": "7b9946b6",
   "metadata": {},
   "outputs": [],
   "source": [
    "# Utilizar modelos de MLflow\n",
    "logged_model = 'runs:/94aeffab63b348e7a88aa7a81da2f1a0/models'"
   ]
  },
  {
   "cell_type": "code",
   "execution_count": 26,
   "id": "d18bc79b-0ee9-4483-be47-92e167939243",
   "metadata": {},
   "outputs": [],
   "source": [
    "# Load model as a PyFuncModel.\n",
    "loaded_model = mlflow.pyfunc.load_model(logged_model)"
   ]
  },
  {
   "cell_type": "code",
   "execution_count": 27,
   "id": "b95e5005",
   "metadata": {},
   "outputs": [
    {
     "data": {
      "text/plain": [
       "mlflow.pyfunc.loaded_model:\n",
       "  artifact_path: models\n",
       "  flavor: mlflow.xgboost\n",
       "  run_id: 94aeffab63b348e7a88aa7a81da2f1a0"
      ]
     },
     "execution_count": 27,
     "metadata": {},
     "output_type": "execute_result"
    }
   ],
   "source": [
    "loaded_model"
   ]
  },
  {
   "cell_type": "code",
   "execution_count": null,
   "id": "555f4ad3",
   "metadata": {},
   "outputs": [],
   "source": [
    "xbgoost_model = mlflow.xgboost.load_model(logged_model)"
   ]
  },
  {
   "cell_type": "code",
   "execution_count": 33,
   "id": "7e3d2f73",
   "metadata": {},
   "outputs": [
    {
     "data": {
      "text/plain": [
       "<xgboost.core.Booster at 0x7f0122266250>"
      ]
     },
     "execution_count": 33,
     "metadata": {},
     "output_type": "execute_result"
    }
   ],
   "source": [
    "xbgoost_model"
   ]
  },
  {
   "cell_type": "code",
   "execution_count": 35,
   "id": "6b6d19b6",
   "metadata": {},
   "outputs": [
    {
     "name": "stdout",
     "output_type": "stream",
     "text": [
      "RMSE: 8.545\n"
     ]
    }
   ],
   "source": [
    "y_pred = xbgoost_model.predict(valid)\n",
    "rmse = root_mean_squared_error(y_val, y_pred)\n",
    "print(f\"RMSE: {rmse:.3f}\")"
   ]
  },
  {
   "cell_type": "code",
   "execution_count": 37,
   "id": "3c6779a5",
   "metadata": {},
   "outputs": [
    {
     "name": "stderr",
     "output_type": "stream",
     "text": [
      "/home/pinnzonandres/anaconda3/envs/exp-tracking-env/lib/python3.9/site-packages/sklearn/svm/_base.py:1249: ConvergenceWarning: Liblinear failed to converge, increase the number of iterations.\n",
      "  warnings.warn(\n"
     ]
    }
   ],
   "source": [
    "from sklearn.ensemble import RandomForestRegressor, GradientBoostingRegressor, ExtraTreesRegressor\n",
    "from sklearn.svm import LinearSVR\n",
    "\n",
    "mlflow.sklearn.autolog()\n",
    "\n",
    "for model_class in (RandomForestRegressor, GradientBoostingRegressor, ExtraTreesRegressor, LinearSVR):\n",
    "\n",
    "    with mlflow.start_run():\n",
    "\n",
    "        mlflow.log_param(\"train-data-path\", \"./data/green_tripdata_2021-01.csv\")\n",
    "        mlflow.log_param(\"valid-data-path\", \"./data/green_tripdata_2021-02.csv\")\n",
    "        mlflow.log_artifact(\"models/preprocessor.pkl\", artifact_path=\"preprocessor\")\n",
    "\n",
    "        mlmodel = model_class()\n",
    "        mlmodel.fit(X_train, y_train)\n",
    "\n",
    "        y_pred = mlmodel.predict(X_val)\n",
    "        rmse = root_mean_squared_error(y_val, y_pred)\n",
    "        mlflow.log_metric(\"rmse\", rmse)\n",
    "        "
   ]
  },
  {
   "cell_type": "code",
   "execution_count": null,
   "id": "d9e7801f",
   "metadata": {},
   "outputs": [],
   "source": []
  }
 ],
 "metadata": {
  "kernelspec": {
   "display_name": "exp-tracking-env",
   "language": "python",
   "name": "python3"
  },
  "language_info": {
   "codemirror_mode": {
    "name": "ipython",
    "version": 3
   },
   "file_extension": ".py",
   "mimetype": "text/x-python",
   "name": "python",
   "nbconvert_exporter": "python",
   "pygments_lexer": "ipython3",
   "version": "3.9.21"
  }
 },
 "nbformat": 4,
 "nbformat_minor": 5
}
