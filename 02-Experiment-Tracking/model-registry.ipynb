{
 "cells": [
  {
   "cell_type": "code",
   "execution_count": 1,
   "id": "276420c8",
   "metadata": {},
   "outputs": [],
   "source": [
    "import mlflow\n",
    "from mlflow.tracking import MlflowClient"
   ]
  },
  {
   "cell_type": "code",
   "execution_count": null,
   "id": "708152bc",
   "metadata": {},
   "outputs": [],
   "source": []
  },
  {
   "cell_type": "code",
   "execution_count": 2,
   "id": "9fca3537",
   "metadata": {},
   "outputs": [],
   "source": [
    "# Definimos el cliente sobre el que podemos hacer el tracking\n",
    "MLFLOW_TRACKING_URI = \"sqlite:///exp-tracking.db\"\n",
    "\n",
    "client = MlflowClient(tracking_uri = MLFLOW_TRACKING_URI)"
   ]
  },
  {
   "cell_type": "code",
   "execution_count": 84,
   "id": "991f2a0c",
   "metadata": {},
   "outputs": [],
   "source": [
    "experiment = client.get_experiment_by_name('nyc-taxi.experiment')"
   ]
  },
  {
   "cell_type": "code",
   "execution_count": 85,
   "id": "64ce92d2",
   "metadata": {},
   "outputs": [],
   "source": [
    "best_run = client.search_runs(\n",
    "        experiment_ids=experiment.experiment_id,\n",
    "        run_view_type= ViewType.ACTIVE_ONLY,\n",
    "        max_results=5,\n",
    "        order_by=[\"metrics.rmse ASC\"]\n",
    "        )"
   ]
  },
  {
   "cell_type": "code",
   "execution_count": 88,
   "id": "abe30e9b",
   "metadata": {},
   "outputs": [
    {
     "data": {
      "text/plain": [
       "'a2204949054048e7bc3f828854e95226'"
      ]
     },
     "execution_count": 88,
     "metadata": {},
     "output_type": "execute_result"
    }
   ],
   "source": [
    "best_run[0].info.run_id"
   ]
  },
  {
   "cell_type": "code",
   "execution_count": 89,
   "id": "13ba60b8",
   "metadata": {},
   "outputs": [
    {
     "data": {
      "text/plain": [
       "'runs/a2204949054048e7bc3f828854e95226'"
      ]
     },
     "execution_count": 89,
     "metadata": {},
     "output_type": "execute_result"
    }
   ],
   "source": [
    "f'runs/{best_run[0].info.run_id}'"
   ]
  },
  {
   "cell_type": "code",
   "execution_count": null,
   "id": "ff8e302d",
   "metadata": {},
   "outputs": [
    {
     "data": {
      "text/plain": [
       "'3'"
      ]
     },
     "execution_count": 13,
     "metadata": {},
     "output_type": "execute_result"
    }
   ],
   "source": [
    "# Crear experimentos\n",
    "client.create_experiment(name = \"my-cool-experiment\", artifact_location='./test_artifacts')"
   ]
  },
  {
   "cell_type": "code",
   "execution_count": 33,
   "id": "752758b9",
   "metadata": {},
   "outputs": [],
   "source": [
    "from mlflow.entities import ViewType\n",
    "# Buscar runs\n",
    "runs = client.search_runs(\n",
    "    experiment_ids=[1],\n",
    "    filter_string= \"metrics.rmse <6.8\",\n",
    "    run_view_type= ViewType.ACTIVE_ONLY,\n",
    "    max_results=5,\n",
    "    order_by=[\"metrics.rmse ASC\"]\n",
    ")"
   ]
  },
  {
   "cell_type": "code",
   "execution_count": 34,
   "id": "83cdf986",
   "metadata": {},
   "outputs": [
    {
     "name": "stdout",
     "output_type": "stream",
     "text": [
      "run id: a2204949054048e7bc3f828854e95226, rmse: 6.1914\n",
      "run id: 3d88811a1714443fb588c6a55ebc2369, rmse: 6.2284\n",
      "run id: 4893f1d296cd4c749d23311973aa543c, rmse: 6.2690\n",
      "run id: 1b01034aa0ac4b69908a088247365fee, rmse: 6.2851\n",
      "run id: 9e0a059ce6cd48f3acb7a63badcb7e79, rmse: 6.2983\n"
     ]
    }
   ],
   "source": [
    "for  run in runs:\n",
    "    print(f\"run id: {run.info.run_id}, rmse: {run.data.metrics['rmse']:.4f}\")"
   ]
  },
  {
   "cell_type": "code",
   "execution_count": 35,
   "id": "50744bd5",
   "metadata": {},
   "outputs": [
    {
     "data": {
      "text/plain": [
       "<RunData: metrics={'rmse': 6.191359697372561}, params={'learning_rate': '0.06650908516703558',\n",
       " 'max_depth': '16',\n",
       " 'min_child_weight': '9.240451398492997',\n",
       " 'objective': 'reg:squarederror',\n",
       " 'reg_alpha': '0.05025684864048788',\n",
       " 'reg_lambda': '0.10146607789146089',\n",
       " 'seed': '123'}, tags={'mlflow.runName': 'fearless-crow-689',\n",
       " 'mlflow.source.name': '/home/pinnzonandres/anaconda3/envs/exp-tracking-env/lib/python3.9/site-packages/ipykernel_launcher.py',\n",
       " 'mlflow.source.type': 'LOCAL',\n",
       " 'mlflow.user': 'pinnzonandres',\n",
       " 'model': 'xgboost'}>"
      ]
     },
     "execution_count": 35,
     "metadata": {},
     "output_type": "execute_result"
    }
   ],
   "source": [
    "# Información de metricas de cada run\n",
    "runs[0].data"
   ]
  },
  {
   "cell_type": "code",
   "execution_count": 36,
   "id": "5565bb59",
   "metadata": {},
   "outputs": [
    {
     "data": {
      "text/plain": [
       "<RunInfo: artifact_uri=('/mnt/c/Users/ASUS/OneDrive/Desktop/Proyectos/Courses/MLops '\n",
       " 'ZoomCamp/02-Experiment-Tracking/mlruns/1/a2204949054048e7bc3f828854e95226/artifacts'), end_time=1747007403944, experiment_id='1', lifecycle_stage='active', run_id='a2204949054048e7bc3f828854e95226', run_name='fearless-crow-689', run_uuid='a2204949054048e7bc3f828854e95226', start_time=1747007336185, status='FINISHED', user_id='pinnzonandres'>"
      ]
     },
     "execution_count": 36,
     "metadata": {},
     "output_type": "execute_result"
    }
   ],
   "source": [
    "# Informacion de cada run\n",
    "runs[0].info"
   ]
  },
  {
   "cell_type": "code",
   "execution_count": 37,
   "id": "5284ec17",
   "metadata": {},
   "outputs": [],
   "source": [
    "mlflow.set_tracking_uri(MLFLOW_TRACKING_URI)"
   ]
  },
  {
   "cell_type": "code",
   "execution_count": null,
   "id": "f8ff5dcb",
   "metadata": {},
   "outputs": [
    {
     "name": "stderr",
     "output_type": "stream",
     "text": [
      "Registered model 'nyc-taxi-regressor' already exists. Creating a new version of this model...\n",
      "Created version '3' of model 'nyc-taxi-regressor'.\n"
     ]
    },
    {
     "data": {
      "text/plain": [
       "<ModelVersion: aliases=[], creation_timestamp=1747751642812, current_stage='None', description=None, last_updated_timestamp=1747751642812, name='nyc-taxi-regressor', run_id=None, run_link=None, source='runs/a2204949054048e7bc3f828854e95226', status='READY', status_message=None, tags={}, user_id=None, version=3>"
      ]
     },
     "execution_count": 38,
     "metadata": {},
     "output_type": "execute_result"
    }
   ],
   "source": [
    "# Registro de Modelos \n",
    "model_uri = f\"runs/{'a2204949054048e7bc3f828854e95226'}\"\n",
    "mlflow.register_model(model_uri= model_uri, name=\"nyc-taxi-regressor\")"
   ]
  },
  {
   "cell_type": "code",
   "execution_count": 44,
   "id": "0391db09",
   "metadata": {},
   "outputs": [
    {
     "data": {
      "text/plain": [
       "[<RegisteredModel: aliases={}, creation_timestamp=1747746586937, description='', last_updated_timestamp=1747746587157, latest_versions=[<ModelVersion: aliases=[], creation_timestamp=1747746587157, current_stage='None', description='', last_updated_timestamp=1747746587157, name='NYC-regressor', run_id='94aeffab63b348e7a88aa7a81da2f1a0', run_link='', source=('/mnt/c/Users/ASUS/OneDrive/Desktop/Proyectos/Courses/MLops '\n",
       "  'ZoomCamp/02-Experiment-Tracking/mlruns/1/94aeffab63b348e7a88aa7a81da2f1a0/artifacts/models'), status='READY', status_message=None, tags={}, user_id=None, version=1>], name='NYC-regressor', tags={}>,\n",
       " <RegisteredModel: aliases={}, creation_timestamp=1747747944746, description='NYC Taxi Regressor Duration', last_updated_timestamp=1747751642812, latest_versions=[<ModelVersion: aliases=[], creation_timestamp=1747747974475, current_stage='Staging', description='', last_updated_timestamp=1747748043959, name='nyc-taxi-regressor', run_id='e787bf00ec0641498c9c411570b224b9', run_link='', source=('/mnt/c/Users/ASUS/OneDrive/Desktop/Proyectos/Courses/MLops '\n",
       "  'ZoomCamp/02-Experiment-Tracking/mlruns/1/e787bf00ec0641498c9c411570b224b9/artifacts/model'), status='READY', status_message=None, tags={'Model': 'Boosting Regressor'}, user_id=None, version=2>,\n",
       "  <ModelVersion: aliases=[], creation_timestamp=1747751642812, current_stage='None', description=None, last_updated_timestamp=1747751642812, name='nyc-taxi-regressor', run_id=None, run_link=None, source='runs/a2204949054048e7bc3f828854e95226', status='READY', status_message=None, tags={}, user_id=None, version=3>], name='nyc-taxi-regressor', tags={}>]"
      ]
     },
     "execution_count": 44,
     "metadata": {},
     "output_type": "execute_result"
    }
   ],
   "source": [
    "# Busqueda de modelos registrdos\n",
    "client.search_registered_models()"
   ]
  },
  {
   "cell_type": "code",
   "execution_count": 52,
   "id": "c12f73db",
   "metadata": {},
   "outputs": [
    {
     "name": "stdout",
     "output_type": "stream",
     "text": [
      "Version:2, Stage: Staging\n",
      "Version:3, Stage: None\n"
     ]
    },
    {
     "name": "stderr",
     "output_type": "stream",
     "text": [
      "/tmp/ipykernel_11844/1548586273.py:1: FutureWarning: ``mlflow.tracking.client.MlflowClient.get_latest_versions`` is deprecated since 2.9.0. Model registry stages will be removed in a future major release. To learn more about the deprecation of model registry stages, see our migration guide here: https://mlflow.org/docs/latest/model-registry.html#migrating-from-stages\n",
      "  latest_versions = client.get_latest_versions(name='nyc-taxi-regressor')\n"
     ]
    }
   ],
   "source": [
    "latest_versions = client.get_latest_versions(name='nyc-taxi-regressor')\n",
    "for version in latest_versions:\n",
    "    print(f\"Version:{version.version}, Stage: {version.current_stage}\")"
   ]
  },
  {
   "cell_type": "code",
   "execution_count": null,
   "id": "efa25b35",
   "metadata": {},
   "outputs": [
    {
     "name": "stderr",
     "output_type": "stream",
     "text": [
      "/tmp/ipykernel_11844/2116195754.py:1: FutureWarning: ``mlflow.tracking.client.MlflowClient.transition_model_version_stage`` is deprecated since 2.9.0. Model registry stages will be removed in a future major release. To learn more about the deprecation of model registry stages, see our migration guide here: https://mlflow.org/docs/latest/model-registry.html#migrating-from-stages\n",
      "  client.transition_model_version_stage(\n"
     ]
    },
    {
     "data": {
      "text/plain": [
       "<ModelVersion: aliases=[], creation_timestamp=1747751642812, current_stage='Staging', description=None, last_updated_timestamp=1747752054261, name='nyc-taxi-regressor', run_id=None, run_link=None, source='runs/a2204949054048e7bc3f828854e95226', status='READY', status_message=None, tags={}, user_id=None, version=3>"
      ]
     },
     "execution_count": 53,
     "metadata": {},
     "output_type": "execute_result"
    }
   ],
   "source": [
    "# Update state of model\n",
    "client.transition_model_version_stage(\n",
    "    name = 'nyc-taxi-regressor',\n",
    "    version = 3,\n",
    "    stage =\"Staging\",\n",
    "    archive_existing_versions= False\n",
    ")"
   ]
  },
  {
   "cell_type": "code",
   "execution_count": 64,
   "id": "25ce3d0b",
   "metadata": {},
   "outputs": [
    {
     "data": {
      "text/plain": [
       "[]"
      ]
     },
     "execution_count": 64,
     "metadata": {},
     "output_type": "execute_result"
    }
   ],
   "source": [
    "client.search_runs(\n",
    "    experiment_ids='nyc-taxi'\n",
    ")"
   ]
  },
  {
   "cell_type": "code",
   "execution_count": 55,
   "id": "15caa306",
   "metadata": {},
   "outputs": [
    {
     "data": {
      "text/plain": [
       "<ModelVersion: aliases=[], creation_timestamp=1747751642812, current_stage='Staging', description='Cambio a Staging', last_updated_timestamp=1747752130240, name='nyc-taxi-regressor', run_id=None, run_link=None, source='runs/a2204949054048e7bc3f828854e95226', status='READY', status_message=None, tags={}, user_id=None, version=3>"
      ]
     },
     "execution_count": 55,
     "metadata": {},
     "output_type": "execute_result"
    }
   ],
   "source": [
    "client.update_model_version(\n",
    "    name = 'nyc-taxi-regressor',\n",
    "    version= 3,\n",
    "    description=\"Cambio a Staging\"\n",
    ")"
   ]
  },
  {
   "cell_type": "code",
   "execution_count": null,
   "id": "33502b63",
   "metadata": {},
   "outputs": [],
   "source": [
    "# Definir un alias a la versión del modelo registrado\n",
    "client.set_registered_model_alias(\n",
    "    name='nyc-taxi-regressor',\n",
    "    version = 3,\n",
    "    alias = \"Staged\"\n",
    ")"
   ]
  },
  {
   "cell_type": "code",
   "execution_count": null,
   "id": "cd961d0c",
   "metadata": {},
   "outputs": [],
   "source": [
    "# Añadir tags a los modelos registrados\n",
    "client.set_registered_model_tag(\n",
    "    name = 'nyc-taxi-regressor',\n",
    "    key = 'Estado',\n",
    "    value = 'Produccion'\n",
    ")"
   ]
  },
  {
   "cell_type": "code",
   "execution_count": null,
   "id": "46248de2",
   "metadata": {},
   "outputs": [
    {
     "data": {
      "application/vnd.jupyter.widget-view+json": {
       "model_id": "d17d37eaaef74934a745deabf98f5bbb",
       "version_major": 2,
       "version_minor": 0
      },
      "text/plain": [
       "Downloading artifacts:   0%|          | 0/1 [00:00<?, ?it/s]"
      ]
     },
     "metadata": {},
     "output_type": "display_data"
    },
    {
     "data": {
      "text/plain": [
       "'/mnt/c/Users/ASUS/OneDrive/Desktop/Proyectos/Courses/MLops ZoomCamp/02-Experiment-Tracking/preprocessor'"
      ]
     },
     "execution_count": 62,
     "metadata": {},
     "output_type": "execute_result"
    }
   ],
   "source": [
    "# Descargar artefactos\n",
    "client.download_artifacts(run_id=\"e787bf00ec0641498c9c411570b224b9\", path='preprocessor', dst_path='.')"
   ]
  },
  {
   "cell_type": "code",
   "execution_count": null,
   "id": "6639ca15",
   "metadata": {},
   "outputs": [
    {
     "name": "stdout",
     "output_type": "stream",
     "text": [
      "\u001b[0;31mSignature:\u001b[0m\n",
      "\u001b[0mclient\u001b[0m\u001b[0;34m.\u001b[0m\u001b[0mdownload_artifacts\u001b[0m\u001b[0;34m(\u001b[0m\u001b[0;34m\u001b[0m\n",
      "\u001b[0;34m\u001b[0m    \u001b[0mrun_id\u001b[0m\u001b[0;34m:\u001b[0m \u001b[0mstr\u001b[0m\u001b[0;34m,\u001b[0m\u001b[0;34m\u001b[0m\n",
      "\u001b[0;34m\u001b[0m    \u001b[0mpath\u001b[0m\u001b[0;34m:\u001b[0m \u001b[0mstr\u001b[0m\u001b[0;34m,\u001b[0m\u001b[0;34m\u001b[0m\n",
      "\u001b[0;34m\u001b[0m    \u001b[0mdst_path\u001b[0m\u001b[0;34m:\u001b[0m \u001b[0mOptional\u001b[0m\u001b[0;34m[\u001b[0m\u001b[0mstr\u001b[0m\u001b[0;34m]\u001b[0m \u001b[0;34m=\u001b[0m \u001b[0;32mNone\u001b[0m\u001b[0;34m,\u001b[0m\u001b[0;34m\u001b[0m\n",
      "\u001b[0;34m\u001b[0m\u001b[0;34m)\u001b[0m \u001b[0;34m->\u001b[0m \u001b[0mstr\u001b[0m\u001b[0;34m\u001b[0m\u001b[0;34m\u001b[0m\u001b[0m\n",
      "\u001b[0;31mDocstring:\u001b[0m\n",
      "Download an artifact file or directory from a run to a local directory if applicable,\n",
      "and return a local path for it.\n",
      "\n",
      "Args:\n",
      "    run_id: The run to download artifacts from.\n",
      "    path: Relative source path to the desired artifact.\n",
      "    dst_path: Absolute path of the local filesystem destination directory to which to\n",
      "        download the specified artifacts. This directory must already exist.\n",
      "        If unspecified, the artifacts will either be downloaded to a new\n",
      "        uniquely-named directory on the local filesystem or will be returned\n",
      "        directly in the case of the LocalArtifactRepository.\n",
      "\n",
      "Returns:\n",
      "    Local path of desired artifact.\n",
      "\n",
      ".. code-block:: python\n",
      "    :caption: Example\n",
      "\n",
      "    import os\n",
      "    import mlflow\n",
      "    from mlflow import MlflowClient\n",
      "\n",
      "    features = \"rooms, zipcode, median_price, school_rating, transport\"\n",
      "    with open(\"features.txt\", \"w\") as f:\n",
      "        f.write(features)\n",
      "\n",
      "    # Log artifacts\n",
      "    with mlflow.start_run() as run:\n",
      "        mlflow.log_artifact(\"features.txt\", artifact_path=\"features\")\n",
      "\n",
      "    # Download artifacts\n",
      "    client = MlflowClient()\n",
      "    local_dir = \"/tmp/artifact_downloads\"\n",
      "    if not os.path.exists(local_dir):\n",
      "        os.mkdir(local_dir)\n",
      "    local_path = client.download_artifacts(run.info.run_id, \"features\", local_dir)\n",
      "    print(f\"Artifacts downloaded in: {local_path}\")\n",
      "    print(f\"Artifacts: {os.listdir(local_path)}\")\n",
      "\n",
      ".. code-block:: text\n",
      "    :caption: Output\n",
      "\n",
      "    Artifacts downloaded in: /tmp/artifact_downloads/features\n",
      "    Artifacts: ['features.txt']\n",
      "\u001b[0;31mFile:\u001b[0m      ~/anaconda3/envs/exp-tracking-env/lib/python3.9/site-packages/mlflow/tracking/client.py\n",
      "\u001b[0;31mType:\u001b[0m      method"
     ]
    }
   ],
   "source": [
    "test_mode"
   ]
  },
  {
   "cell_type": "code",
   "execution_count": null,
   "id": "c6553d68",
   "metadata": {},
   "outputs": [],
   "source": []
  }
 ],
 "metadata": {
  "kernelspec": {
   "display_name": "exp-tracking-env",
   "language": "python",
   "name": "python3"
  },
  "language_info": {
   "codemirror_mode": {
    "name": "ipython",
    "version": 3
   },
   "file_extension": ".py",
   "mimetype": "text/x-python",
   "name": "python",
   "nbconvert_exporter": "python",
   "pygments_lexer": "ipython3",
   "version": "3.9.21"
  }
 },
 "nbformat": 4,
 "nbformat_minor": 5
}
